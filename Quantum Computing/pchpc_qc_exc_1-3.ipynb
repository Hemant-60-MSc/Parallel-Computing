{
 "cells": [
  {
   "cell_type": "markdown",
   "id": "3caf7c04",
   "metadata": {},
   "source": [
    "# Quantum Computing Exercise 1-4\n",
    "\n",
    "When run locally, this requires installation of numpy, matplotlib, and qiskit Python modules. For example:\n",
    "```\n",
    "pip install numpy\n",
    "pip install matplotlib\n",
    "pip install qiskit\n",
    "```\n",
    "\n",
    "Required imports:"
   ]
  },
  {
   "cell_type": "code",
   "execution_count": 25,
   "id": "fefb80b4",
   "metadata": {},
   "outputs": [],
   "source": [
    "import numpy as np\n",
    "import matplotlib.pyplot as plt\n",
    "from qiskit import QuantumCircuit, transpile\n",
    "from qiskit.providers.aer import QasmSimulator\n",
    "from qiskit.quantum_info import Operator\n",
    "from qiskit.visualization import plot_histogram"
   ]
  },
  {
   "cell_type": "markdown",
   "id": "a7f6f8fa",
   "metadata": {},
   "source": [
    "Use Aer's qasm_simulator:"
   ]
  },
  {
   "cell_type": "code",
   "execution_count": 26,
   "id": "249bc4d1",
   "metadata": {},
   "outputs": [],
   "source": [
    "simulator = QasmSimulator()"
   ]
  },
  {
   "cell_type": "markdown",
   "id": "49d20be1",
   "metadata": {},
   "source": [
    "Create a Quantum Circuit. \n",
    "This needs to be extended to `(4,4)` for exercise 4."
   ]
  },
  {
   "cell_type": "code",
   "execution_count": 27,
   "id": "15968045",
   "metadata": {},
   "outputs": [],
   "source": [
    "circuit = QuantumCircuit(2,2)"
   ]
  },
  {
   "cell_type": "markdown",
   "id": "93172016",
   "metadata": {},
   "source": [
    "Put some gates into the next code cell.\n",
    "Examples are:\n",
    "```\n",
    "# X/NOT gate on qubit 0:\n",
    "circuit.x(0)\n",
    "# Hadamard gate on qubit 0:\n",
    "circuit.h(0)\n",
    "# Controlled NOT / CNOT gate with qubit 0 as control and qubit 1 as target:\n",
    "circuit.cnot(0,1)\n",
    "```"
   ]
  },
  {
   "cell_type": "markdown",
   "id": "e1d2a364",
   "metadata": {},
   "source": [
    "### Task 1"
   ]
  },
  {
   "cell_type": "code",
   "execution_count": 28,
   "id": "45ff6935",
   "metadata": {},
   "outputs": [
    {
     "data": {
      "text/plain": [
       "<qiskit.circuit.instructionset.InstructionSet at 0x7fd0792a13f0>"
      ]
     },
     "execution_count": 28,
     "metadata": {},
     "output_type": "execute_result"
    }
   ],
   "source": [
    "circuit.x(0)\n",
    "circuit.h(0)\n",
    "circuit.cnot(0, 1)\n",
    "# circuit.h(0) #Hadamard gate on qbit 0\n",
    "# circuit.h(1)\n",
    "# circuit.x(1)\n",
    "# circuit.y(0)\n",
    "# circuit.cx(1, 0)"
   ]
  },
  {
   "cell_type": "markdown",
   "id": "0d69936f",
   "metadata": {},
   "source": [
    "Map the quantum measurement to the classical bits. This needs also to be extended for exercise 4."
   ]
  },
  {
   "cell_type": "code",
   "execution_count": 29,
   "id": "ffd2f2cf",
   "metadata": {},
   "outputs": [
    {
     "data": {
      "text/plain": [
       "<qiskit.circuit.instructionset.InstructionSet at 0x7fd079bd3ca0>"
      ]
     },
     "execution_count": 29,
     "metadata": {},
     "output_type": "execute_result"
    }
   ],
   "source": [
    "circuit.measure([0,1],[0,1])"
   ]
  },
  {
   "cell_type": "markdown",
   "id": "6705d59d",
   "metadata": {},
   "source": [
    "Draw the circuit:"
   ]
  },
  {
   "cell_type": "code",
   "execution_count": 30,
   "id": "386ee993",
   "metadata": {},
   "outputs": [
    {
     "data": {
      "text/html": [
       "<pre style=\"word-wrap: normal;white-space: pre;background: #fff0;line-height: 1.1;font-family: &quot;Courier New&quot;,Courier,monospace\">     ┌───┐┌───┐     ┌─┐   \n",
       "q_0: ┤ X ├┤ H ├──■──┤M├───\n",
       "     └───┘└───┘┌─┴─┐└╥┘┌─┐\n",
       "q_1: ──────────┤ X ├─╫─┤M├\n",
       "               └───┘ ║ └╥┘\n",
       "c: 2/════════════════╩══╩═\n",
       "                     0  1 </pre>"
      ],
      "text/plain": [
       "     ┌───┐┌───┐     ┌─┐   \n",
       "q_0: ┤ X ├┤ H ├──■──┤M├───\n",
       "     └───┘└───┘┌─┴─┐└╥┘┌─┐\n",
       "q_1: ──────────┤ X ├─╫─┤M├\n",
       "               └───┘ ║ └╥┘\n",
       "c: 2/════════════════╩══╩═\n",
       "                     0  1 "
      ]
     },
     "execution_count": 30,
     "metadata": {},
     "output_type": "execute_result"
    }
   ],
   "source": [
    "circuit.draw()"
   ]
  },
  {
   "cell_type": "markdown",
   "id": "3174977f",
   "metadata": {},
   "source": [
    "Compile the circuit down to low-level QASM instructions supported by the backend (not needed for simple circuits):"
   ]
  },
  {
   "cell_type": "code",
   "execution_count": 31,
   "id": "30207559",
   "metadata": {},
   "outputs": [],
   "source": [
    "compiled_circuit = transpile(circuit, simulator)"
   ]
  },
  {
   "cell_type": "markdown",
   "id": "e988b3eb",
   "metadata": {},
   "source": [
    "Execute the circuit on the qasm simulator:"
   ]
  },
  {
   "cell_type": "code",
   "execution_count": 32,
   "id": "99a78601",
   "metadata": {},
   "outputs": [],
   "source": [
    "job = simulator.run(compiled_circuit)"
   ]
  },
  {
   "cell_type": "markdown",
   "id": "d861b3d1",
   "metadata": {},
   "source": [
    "Grab results from the job:"
   ]
  },
  {
   "cell_type": "code",
   "execution_count": 33,
   "id": "e1a5f9ae",
   "metadata": {},
   "outputs": [],
   "source": [
    "result = job.result()\n",
    "counts=result.get_counts(compiled_circuit)"
   ]
  },
  {
   "cell_type": "markdown",
   "id": "af847dc7",
   "metadata": {},
   "source": [
    "Plot a histogram:"
   ]
  },
  {
   "cell_type": "code",
   "execution_count": 34,
   "id": "552d3069",
   "metadata": {},
   "outputs": [
    {
     "data": {
      "image/png": "[encoded data removed]",
      "text/plain": [
       "<Figure size 700x500 with 1 Axes>"
      ]
     },
     "execution_count": 34,
     "metadata": {},
     "output_type": "execute_result"
    }
   ],
   "source": [
    "plot_histogram(counts)"
   ]
  },
  {
   "cell_type": "markdown",
   "id": "5148e5bc",
   "metadata": {},
   "source": [
    "### Task 2"
   ]
  },
  {
   "cell_type": "code",
   "execution_count": 46,
   "id": "673c0324",
   "metadata": {},
   "outputs": [
    {
     "data": {
      "text/html": [
       "<pre style=\"word-wrap: normal;white-space: pre;background: #fff0;line-height: 1.1;font-family: &quot;Courier New&quot;,Courier,monospace\">     ┌───┐     ┌─┐   \n",
       "q_0: ┤ H ├──■──┤M├───\n",
       "     ├───┤┌─┴─┐└╥┘┌─┐\n",
       "q_1: ┤ X ├┤ X ├─╫─┤M├\n",
       "     └───┘└───┘ ║ └╥┘\n",
       "c: 2/═══════════╩══╩═\n",
       "                0  1 </pre>"
      ],
      "text/plain": [
       "     ┌───┐     ┌─┐   \n",
       "q_0: ┤ H ├──■──┤M├───\n",
       "     ├───┤┌─┴─┐└╥┘┌─┐\n",
       "q_1: ┤ X ├┤ X ├─╫─┤M├\n",
       "     └───┘└───┘ ║ └╥┘\n",
       "c: 2/═══════════╩══╩═\n",
       "                0  1 "
      ]
     },
     "execution_count": 46,
     "metadata": {},
     "output_type": "execute_result"
    }
   ],
   "source": [
    "circuit = QuantumCircuit(2,2)\n",
    "\n",
    "circuit.h(0)\n",
    "circuit.x(1)\n",
    "circuit.cnot(0, 1)\n",
    "\n",
    "circuit.measure([0,1],[0,1])\n",
    "\n",
    "circuit.draw()"
   ]
  },
  {
   "cell_type": "code",
   "execution_count": 47,
   "id": "8d2c1efb",
   "metadata": {},
   "outputs": [
    {
     "data": {
      "image/png": "[encoded data removed]",
      "text/plain": [
       "<Figure size 700x500 with 1 Axes>"
      ]
     },
     "execution_count": 47,
     "metadata": {},
     "output_type": "execute_result"
    }
   ],
   "source": [
    "compiled_circuit = transpile(circuit, simulator)\n",
    "job = simulator.run(compiled_circuit)\n",
    "\n",
    "result = job.result()\n",
    "plot_histogram(result.get_counts(compiled_circuit))"
   ]
  },
  {
   "cell_type": "markdown",
   "id": "ae0e84e7",
   "metadata": {},
   "source": [
    "### Task 3"
   ]
  },
  {
   "cell_type": "code",
   "execution_count": 65,
   "id": "a4a03c67",
   "metadata": {},
   "outputs": [
    {
     "data": {
      "text/html": [
       "<pre style=\"word-wrap: normal;white-space: pre;background: #fff0;line-height: 1.1;font-family: &quot;Courier New&quot;,Courier,monospace\">     ┌───┐                  ┌─┐      \n",
       "q_0: ┤ H ├──■────■──────────┤M├──────\n",
       "     └───┘┌─┴─┐  │  ┌─┐     └╥┘      \n",
       "q_1: ─────┤ X ├──┼──┤M├──────╫───────\n",
       "          └───┘┌─┴─┐└╥┘      ║ ┌─┐   \n",
       "q_2: ──────────┤ X ├─╫───■───╫─┤M├───\n",
       "               └───┘ ║ ┌─┴─┐ ║ └╥┘┌─┐\n",
       "q_3: ────────────────╫─┤ X ├─╫──╫─┤M├\n",
       "                     ║ └───┘ ║  ║ └╥┘\n",
       "c: 4/════════════════╩═══════╩══╩══╩═\n",
       "                     1       0  2  3 </pre>"
      ],
      "text/plain": [
       "     ┌───┐                  ┌─┐      \n",
       "q_0: ┤ H ├──■────■──────────┤M├──────\n",
       "     └───┘┌─┴─┐  │  ┌─┐     └╥┘      \n",
       "q_1: ─────┤ X ├──┼──┤M├──────╫───────\n",
       "          └───┘┌─┴─┐└╥┘      ║ ┌─┐   \n",
       "q_2: ──────────┤ X ├─╫───■───╫─┤M├───\n",
       "               └───┘ ║ ┌─┴─┐ ║ └╥┘┌─┐\n",
       "q_3: ────────────────╫─┤ X ├─╫──╫─┤M├\n",
       "                     ║ └───┘ ║  ║ └╥┘\n",
       "c: 4/════════════════╩═══════╩══╩══╩═\n",
       "                     1       0  2  3 "
      ]
     },
     "execution_count": 65,
     "metadata": {},
     "output_type": "execute_result"
    }
   ],
   "source": [
    "circuit = QuantumCircuit(4,4)\n",
    "\n",
    "circuit.h(0)\n",
    "# circuit.x(1)\n",
    "circuit.cnot(0, 1)\n",
    "circuit.cnot(0, 2)\n",
    "circuit.cnot(2, 3)\n",
    "\n",
    "\n",
    "# circuit.measure(0,0)\n",
    "# circuit.measure(1,0)\n",
    "# circuit.measure(2,0)\n",
    "# circuit.measure(3,0)\n",
    "\n",
    "circuit.measure([0,1,2,3], [0,1,2,3])\n",
    "\n",
    "circuit.draw()"
   ]
  },
  {
   "cell_type": "code",
   "execution_count": 66,
   "id": "ff6594c4",
   "metadata": {},
   "outputs": [
    {
     "data": {
      "image/png": "[encoded data removed]",
      "text/plain": [
       "<Figure size 700x500 with 1 Axes>"
      ]
     },
     "execution_count": 66,
     "metadata": {},
     "output_type": "execute_result"
    }
   ],
   "source": [
    "compiled_circuit = transpile(circuit, simulator)\n",
    "job = simulator.run(compiled_circuit)\n",
    "\n",
    "result = job.result()\n",
    "plot_histogram(result.get_counts(compiled_circuit))"
   ]
  },
  {
   "cell_type": "code",
   "execution_count": null,
   "id": "781b7b48",
   "metadata": {},
   "outputs": [],
   "source": []
  }
 ],
 "metadata": {
  "kernelspec": {
   "display_name": "Python 3 (ipykernel)",
   "language": "python",
   "name": "python3"
  },
  "language_info": {
   "codemirror_mode": {
    "name": "ipython",
    "version": 3
   },
   "file_extension": ".py",
   "mimetype": "text/x-python",
   "name": "python",
   "nbconvert_exporter": "python",
   "pygments_lexer": "ipython3",
   "version": "3.10.6"
  }
 },
 "nbformat": 4,
 "nbformat_minor": 5
}
